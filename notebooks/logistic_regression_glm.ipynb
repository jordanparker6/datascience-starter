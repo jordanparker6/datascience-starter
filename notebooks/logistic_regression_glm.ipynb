{
 "cells": [
  {
   "cell_type": "code",
   "execution_count": null,
   "metadata": {},
   "outputs": [],
   "source": [
    "from datascience_starter.models.glm import GLM\n",
    "import numpy as np\n",
    "import matplotlib.pyplot as plt\n",
    "import seaborn as sns\n",
    "import pymc3 as pm"
   ]
  },
  {
   "cell_type": "code",
   "execution_count": null,
   "metadata": {
    "tags": []
   },
   "outputs": [],
   "source": [
    "from sklearn.datasets import load_iris\n",
    "iris = load_iris()\n",
    "X = iris.data[:, :2]\n",
    "y = ((iris.target != 0) * 1)\n",
    "print(f\"X shape is {X.shape}, y shape is {y.shape}\")"
   ]
  },
  {
   "cell_type": "code",
   "execution_count": null,
   "metadata": {},
   "outputs": [],
   "source": [
    "from sklearn.linear_model import LogisticRegression\n",
    "model = LogisticRegression()\n",
    "model.fit(X, y)\n",
    "alpha = model.intercept_\n",
    "beta = model.coef_\n",
    "print(f\"Alpha: {alpha}, Beta: {beta}\")\n",
    "\n",
    "da = - alpha / beta[0, 1]\n",
    "dw = - beta[0, 0] / beta[0, 1]\n",
    "x = np.linspace(4, 8, 100)\n",
    "db = da + dw * x\n",
    "sns.scatterplot(X[: , 0], X[: , 1], c=y)\n",
    "sns.lineplot(x, db, label=\"decision boundary\")"
   ]
  },
  {
   "cell_type": "code",
   "execution_count": null,
   "metadata": {
    "tags": []
   },
   "outputs": [],
   "source": [
    "glm = GLM(likelihood='bernoulli')\n",
    "glm.fit(X, y, tune=1000)"
   ]
  },
  {
   "cell_type": "code",
   "execution_count": null,
   "metadata": {},
   "outputs": [],
   "source": [
    "print(glm.summary())\n",
    "glm.plot_trace()"
   ]
  },
  {
   "cell_type": "code",
   "execution_count": null,
   "metadata": {},
   "outputs": [],
   "source": [
    "sns.distplot(glm.trace[\"beta\"][:, 0], label=\"beta_1\")\n",
    "sns.distplot(glm.trace[\"beta\"][:, 1], label=\"beta_2\")\n",
    "sns.distplot(glm.trace[\"alpha\"], label=\"alpha\")"
   ]
  },
  {
   "cell_type": "code",
   "execution_count": null,
   "metadata": {},
   "outputs": [],
   "source": [
    "x = np.linspace(4, 8, 100)\n",
    "sns.scatterplot(X[: , 0], X[: , 1], c=y)\n",
    "for quant in [0.5]:\n",
    "    alpha = np.quantile(glm.trace[\"alpha\"], quant, axis=0)\n",
    "    beta = np.quantile(glm.trace[\"beta\"], quant, axis=0)\n",
    "    print(f\"Alpha: {alpha}, Beta: {beta}\")\n",
    "\n",
    "    da = - alpha / beta[1]\n",
    "    dw = - beta[0] / beta[1]\n",
    "\n",
    "    db = da + dw * x\n",
    "    sns.lineplot(x, db, label=f\"decision boundary__{quant}\")"
   ]
  },
  {
   "cell_type": "code",
   "execution_count": null,
   "metadata": {},
   "outputs": [],
   "source": []
  }
 ],
 "metadata": {
  "kernelspec": {
   "display_name": "Python 3.8.5 64-bit",
   "metadata": {
    "interpreter": {
     "hash": "082e9a3bcad0a290d0001e938aa60b99250c6c2ef33a923c00b70f9826caf4b7"
    }
   },
   "name": "Python 3.8.5 64-bit"
  },
  "language_info": {
   "codemirror_mode": {
    "name": "ipython",
    "version": 3
   },
   "file_extension": ".py",
   "mimetype": "text/x-python",
   "name": "python",
   "nbconvert_exporter": "python",
   "pygments_lexer": "ipython3",
   "version": "3.8.5-final"
  }
 },
 "nbformat": 4,
 "nbformat_minor": 2
}
